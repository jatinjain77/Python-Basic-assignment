{
  "nbformat": 4,
  "nbformat_minor": 0,
  "metadata": {
    "colab": {
      "provenance": []
    },
    "kernelspec": {
      "name": "python3",
      "display_name": "Python 3"
    },
    "language_info": {
      "name": "python"
    }
  },
  "cells": [
    {
      "cell_type": "markdown",
      "source": [
        "1.What is Python, and why is it popular?\n",
        "\n",
        "->Python is a high level programming language that is used for giving instruction to the computer in order to get the desired output.\n",
        "\n",
        "\n",
        "The Reason for the popularity of python language is that\n",
        "1.    It is a Widely used language\n",
        "2.   It is used in data industry\n",
        "3.   It is easy to learn\n",
        "4.  It has a lot of libraries\n",
        "5.   It is also used in image processing and automation"
      ],
      "metadata": {
        "id": "F4J3R962eEH8"
      }
    },
    {
      "cell_type": "markdown",
      "source": [
        "2 What is an interpreter in Python?\n",
        "\n",
        "->Python Interpreter is a set of instruction that is used for the excecution of your code line by line . The functions of the interpreter is to convert the code into machine readable code and  excecute the code in PVM."
      ],
      "metadata": {
        "id": "a5qD_9wxgcfA"
      }
    },
    {
      "cell_type": "markdown",
      "source": [
        "3 What are pre-defined keywords in Python ?\n",
        "\n",
        "->Pre defined keyword in python are the set of words which are used for a specific function therefore these words are not prefered as a variable name\n",
        "or identifier.\n",
        " If someone do then the intrepreter will be confused and further writing of code will be difficult as the keyword is used for a different purpose"
      ],
      "metadata": {
        "id": "Cr5GDHuniR_f"
      }
    },
    {
      "cell_type": "markdown",
      "source": [
        "4. Can keywords be used as variable names ?\n",
        "\n",
        "->Yes keywords can be used as a variable name but after that there normal usecase will not be performed by them.\n",
        "\n",
        "Generally It is not preferred to use keywords as a variable name."
      ],
      "metadata": {
        "id": "eNLuu2Ozkxho"
      }
    },
    {
      "cell_type": "markdown",
      "source": [
        "5 What is mutability in Python ?\n",
        "\n",
        "->Mutablity is a property of mutable object/variable in which the values of the variable/object can be changed after creating a object.\n",
        "The example of mutable objects are\n",
        "*  Lis\n",
        "*   Set\n",
        "*   Dictionary\n",
        "\n",
        "\n",
        "\n",
        "\n",
        "\n"
      ],
      "metadata": {
        "id": "c3bO4XxMl2Pc"
      }
    },
    {
      "cell_type": "markdown",
      "source": [
        "6. Why are lists mutable, but tuples are immutable ?\n",
        "\n",
        "->Lists are mutable and tuples are immutable because in lists we can change the value of any index by some other after creating it but in case of tuple we cannot change by  any means after creating a tuple due to their properties the list is muttable and the tuples are immutable."
      ],
      "metadata": {
        "id": "la5AqOssqg7K"
      }
    },
    {
      "cell_type": "markdown",
      "source": [
        "7.What is the difference between “==” and “is” operators in Python ?\n",
        "\n",
        "->The difference between the == operator and is operator is that the\n",
        "== operator is used for checking the value in a object\\variable is same or not and the (is) operator is used for checking that the address of two variables are same or not ,for example we can say if two variables have the same value they give true in == operator but can give false in is operator because they may vary in the address in memory."
      ],
      "metadata": {
        "id": "I-Oiz8EHspQw"
      }
    },
    {
      "cell_type": "markdown",
      "source": [
        " 8.What are logical operators in Python ?\n",
        "\n",
        "->Logical operators are the operators which are used give output on the basis of the boolean expression.\n",
        "\n",
        "There are various types  of logical operators\n",
        "\n",
        "Logical And Operator => In Logical and both the condition should be true\n",
        "\n",
        "Logical Or Operator => In Logical Or one condition must be true\n",
        "\n",
        "Logical not => In Logical not it gives the inverse of the boolean expression"
      ],
      "metadata": {
        "id": "4GY3lKQYv5_F"
      }
    },
    {
      "cell_type": "markdown",
      "source": [
        "9.What is type casting in Python ?\n",
        "\n",
        "->Type Casting in python means to convert the data from one data type to other data type\n",
        "\n",
        "There are two tyes of type casting that is been use\n",
        "\n",
        "Impicit Type casting\n",
        "\n",
        "Expliciting type casting"
      ],
      "metadata": {
        "id": "73bagj_tRnB6"
      }
    },
    {
      "cell_type": "markdown",
      "source": [
        "10 What is the difference between implicit and explicit type casting ?\n",
        "\n",
        "Implicit Type Casting => It is a typecasting in which python directly converts the value of one data type to another data type without any user involvement.\n",
        "\n",
        "Explicit Type Casting => It is a typecasting in which user themselves conmveerty the data type of one to other datatype .In some cases Explicit type casting can not be done for eg if we wanted to conver string abc into the integer it will show error\n"
      ],
      "metadata": {
        "id": "13b2k2hQUiaX"
      }
    },
    {
      "cell_type": "markdown",
      "source": [
        "11. What is the difference between implicit and explicit type casting ?\n",
        "\n",
        "->The purpose of conditional statement in python is that to solve the problems in which on various sub cases there are diffferent solutions .\n",
        "\n",
        "the various type of conditional statements are\n",
        "\n",
        "\n",
        "*   if\n",
        "*  elif\n",
        "* else\n",
        "\n",
        "\n"
      ],
      "metadata": {
        "id": "JcZClB4TUgqn"
      }
    },
    {
      "cell_type": "markdown",
      "source": [
        "12 How does the elif statement work ?\n",
        "\n",
        "->elif condition work in a manner that if If condition does not work the code flows to elif condition and from elif it can excecute the code or can go to\n",
        "another elif or else the final condition."
      ],
      "metadata": {
        "id": "5vOszAj6XFue"
      }
    },
    {
      "cell_type": "markdown",
      "source": [
        "13. What is the difference between for and while loops  \n",
        "\n",
        "->\n",
        "* For loop is used when you know how many times the line is going to excecute\n",
        "\n",
        "* In for loop goes through iteration\n",
        "\n",
        "* We need not to give the condition\n",
        "\n",
        "* it updates automatically\n",
        "\n",
        "---------------------------------------------------\n",
        "* While loop first checks the condition and then Excecutes the program\n",
        "\n",
        "*  It does not updates automatically\n",
        "\n",
        "* We have to get the value updated personally\n",
        "\n"
      ],
      "metadata": {
        "id": "LVJb9HFKYbap"
      }
    },
    {
      "cell_type": "markdown",
      "source": [
        "14. Describe a scenario where a while loop is more suitable than a for loop.\n",
        "\n",
        "\n",
        "->A scenario where a while loop is more suitable than a for loop is lets say\n",
        "If  we wanted to seperate the words started with vowels and print them out of the list .\n",
        "\n",
        "In the example we can give condition  to differentiate by giving condition on  first letter in while loop"
      ],
      "metadata": {
        "id": "MfYICjEudPCA"
      }
    },
    {
      "cell_type": "code",
      "source": [
        "#1.Write a Python program to print \"Hello, World!y\n",
        "print(\"Hello world\")"
      ],
      "metadata": {
        "colab": {
          "base_uri": "https://localhost:8080/"
        },
        "id": "KHDGo9eOdi6a",
        "outputId": "6739235b-64bd-4474-ea49-36a3625d7f49"
      },
      "execution_count": null,
      "outputs": [
        {
          "output_type": "stream",
          "name": "stdout",
          "text": [
            "Hello world\n"
          ]
        }
      ]
    },
    {
      "cell_type": "code",
      "source": [
        "# 2.Write a Python program that displays your name and age8\n",
        "# assigning my name and my age value in the variables and then printing it\n",
        "my_name = \"Jatin Jain\"\n",
        "my_age = 21\n",
        "print(f\"my name is {my_name} and my age is {my_age}\")"
      ],
      "metadata": {
        "colab": {
          "base_uri": "https://localhost:8080/"
        },
        "id": "yH4hx82vg9oL",
        "outputId": "600debe5-e1ef-4e49-b4e3-58126763b8e0"
      },
      "execution_count": null,
      "outputs": [
        {
          "output_type": "stream",
          "name": "stdout",
          "text": [
            "my name is Jatin Jain and my age is 21\n"
          ]
        }
      ]
    },
    {
      "cell_type": "code",
      "source": [
        "#3. Write code to print all the pre-defined keywords in\n",
        "Python using the keyword library\n",
        "#importing keyword library\n",
        "import keyword\n",
        "print(keyword.kwlist)\n",
        "print(\" \\n total no . of keywords in pyhton is \",len(keyword.kwlist))"
      ],
      "metadata": {
        "colab": {
          "base_uri": "https://localhost:8080/"
        },
        "id": "fB5Ak_bhv_5j",
        "outputId": "4c6ae38f-a10a-4a08-ddb3-22cea47227a7"
      },
      "execution_count": null,
      "outputs": [
        {
          "output_type": "stream",
          "name": "stdout",
          "text": [
            "['False', 'None', 'True', 'and', 'as', 'assert', 'async', 'await', 'break', 'class', 'continue', 'def', 'del', 'elif', 'else', 'except', 'finally', 'for', 'from', 'global', 'if', 'import', 'in', 'is', 'lambda', 'nonlocal', 'not', 'or', 'pass', 'raise', 'return', 'try', 'while', 'with', 'yield']\n",
            " \n",
            " total no . of keywords in pyhton is  35\n"
          ]
        }
      ]
    },
    {
      "cell_type": "code",
      "source": [
        "#4.Write a program that checks if a given word is a Python keyword.\n",
        "#imorting keyword library\n",
        "import keyword\n",
        "#ask user for a inpu\n",
        "word = input(\"enter a word\")\n",
        "# using if else for the desired result\n",
        "if word in keyword.kwlist:\n",
        "  print(f\"{word} is a keyword\")\n",
        "else:\n",
        "    print(f\"{word} is not a keyword\")"
      ],
      "metadata": {
        "id": "-E2q4ZNTwqE7",
        "colab": {
          "base_uri": "https://localhost:8080/"
        },
        "outputId": "3928011c-d704-4a6a-a4d0-9d35a2dc4a82"
      },
      "execution_count": null,
      "outputs": [
        {
          "output_type": "stream",
          "name": "stdout",
          "text": [
            "enter a wordFalse\n",
            "False is a keyword\n"
          ]
        }
      ]
    },
    {
      "cell_type": "code",
      "source": [
        "#5. Create a list and tuple in Python, and demonstrate how attempting to change an element works differently\n",
        "#for each.\n",
        "#creating a list in python\n",
        "list = [\"apple\",\"banana\",\"pineapple\"]\n",
        "print(list)\n",
        "list[2]=\"mango\"\n",
        "#It is going to be printed\n",
        "print(list)\n",
        "#creating a tuple with name vegetable\n",
        "vegetable=(\"tomato\",\"potato\",\"bottle guard\")\n",
        "print(vegetable)\n",
        "vegetable(2)=\"brinjal\""
      ],
      "metadata": {
        "colab": {
          "base_uri": "https://localhost:8080/",
          "height": 232
        },
        "id": "lfRkQ1sM1vTu",
        "outputId": "9b402e10-8b68-4020-bf83-dd9c1ecaba53"
      },
      "execution_count": null,
      "outputs": [
        {
          "output_type": "stream",
          "name": "stdout",
          "text": [
            "['apple', 'banana', 'pineapple']\n",
            "['apple', 'banana', 'mango']\n",
            "('tomato', 'potato', 'bottle guard')\n"
          ]
        },
        {
          "output_type": "error",
          "ename": "TypeError",
          "evalue": "'tuple' object is not callable",
          "traceback": [
            "\u001b[0;31m---------------------------------------------------------------------------\u001b[0m",
            "\u001b[0;31mTypeError\u001b[0m                                 Traceback (most recent call last)",
            "\u001b[0;32m/tmp/ipython-input-3306348009.py\u001b[0m in \u001b[0;36m<cell line: 0>\u001b[0;34m()\u001b[0m\n\u001b[1;32m      8\u001b[0m \u001b[0mvegetable\u001b[0m\u001b[0;34m=\u001b[0m\u001b[0;34m(\u001b[0m\u001b[0;34m\"tomato\"\u001b[0m\u001b[0;34m,\u001b[0m\u001b[0;34m\"potato\"\u001b[0m\u001b[0;34m,\u001b[0m\u001b[0;34m\"bottle guard\"\u001b[0m\u001b[0;34m)\u001b[0m\u001b[0;34m\u001b[0m\u001b[0;34m\u001b[0m\u001b[0m\n\u001b[1;32m      9\u001b[0m \u001b[0mprint\u001b[0m\u001b[0;34m(\u001b[0m\u001b[0mvegetable\u001b[0m\u001b[0;34m)\u001b[0m\u001b[0;34m\u001b[0m\u001b[0;34m\u001b[0m\u001b[0m\n\u001b[0;32m---> 10\u001b[0;31m \u001b[0mvegetable\u001b[0m\u001b[0;34m(\u001b[0m\u001b[0;36m2\u001b[0m\u001b[0;34m)\u001b[0m\u001b[0;34m==\u001b[0m\u001b[0;34m\"brinjal\"\u001b[0m\u001b[0;34m\u001b[0m\u001b[0;34m\u001b[0m\u001b[0m\n\u001b[0m",
            "\u001b[0;31mTypeError\u001b[0m: 'tuple' object is not callable"
          ]
        }
      ]
    },
    {
      "cell_type": "code",
      "source": [
        "#6. write a function to demonstrate a objecet is mutable or not mutable\n",
        "def mutable(lst):\n",
        "    lst[2] = \"mango\"\n",
        "    # It is going to be printed\n",
        "    print(lst)\n",
        "\n",
        "def immutable(tpl):\n",
        "\n",
        "    tpl[2] = \"brinjal\"\n",
        "    print(tpl)\n",
        "\n",
        "\n",
        "# Mutable example\n",
        "fruit = [\"apple\", \"banana\", \"pineapple\"]\n",
        "mutable(fruit)\n",
        "\n",
        "# Immutable example\n",
        "vegetable = (\"Tomato\", \"Lady finger\", \"Cauliflower\")  # tuple instead of list\n",
        "immutable(vegetable)"
      ],
      "metadata": {
        "colab": {
          "base_uri": "https://localhost:8080/",
          "height": 339
        },
        "id": "k0lbiYwY7rIY",
        "outputId": "a0e6833a-bcd8-44cb-a5a4-90c07aa8b63b"
      },
      "execution_count": null,
      "outputs": [
        {
          "output_type": "stream",
          "name": "stdout",
          "text": [
            "['apple', 'banana', 'mango']\n"
          ]
        },
        {
          "output_type": "error",
          "ename": "TypeError",
          "evalue": "'tuple' object does not support item assignment",
          "traceback": [
            "\u001b[0;31m---------------------------------------------------------------------------\u001b[0m",
            "\u001b[0;31mTypeError\u001b[0m                                 Traceback (most recent call last)",
            "\u001b[0;32m/tmp/ipython-input-2484914281.py\u001b[0m in \u001b[0;36m<cell line: 0>\u001b[0;34m()\u001b[0m\n\u001b[1;32m     17\u001b[0m \u001b[0;31m# Immutable example\u001b[0m\u001b[0;34m\u001b[0m\u001b[0;34m\u001b[0m\u001b[0m\n\u001b[1;32m     18\u001b[0m \u001b[0mvegetable\u001b[0m \u001b[0;34m=\u001b[0m \u001b[0;34m(\u001b[0m\u001b[0;34m\"Tomato\"\u001b[0m\u001b[0;34m,\u001b[0m \u001b[0;34m\"Lady finger\"\u001b[0m\u001b[0;34m,\u001b[0m \u001b[0;34m\"Cauliflower\"\u001b[0m\u001b[0;34m)\u001b[0m  \u001b[0;31m# tuple instead of list\u001b[0m\u001b[0;34m\u001b[0m\u001b[0;34m\u001b[0m\u001b[0m\n\u001b[0;32m---> 19\u001b[0;31m \u001b[0mimmutable\u001b[0m\u001b[0;34m(\u001b[0m\u001b[0mvegetable\u001b[0m\u001b[0;34m)\u001b[0m\u001b[0;34m\u001b[0m\u001b[0;34m\u001b[0m\u001b[0m\n\u001b[0m",
            "\u001b[0;32m/tmp/ipython-input-2484914281.py\u001b[0m in \u001b[0;36mimmutable\u001b[0;34m(tpl)\u001b[0m\n\u001b[1;32m      7\u001b[0m \u001b[0;32mdef\u001b[0m \u001b[0mimmutable\u001b[0m\u001b[0;34m(\u001b[0m\u001b[0mtpl\u001b[0m\u001b[0;34m)\u001b[0m\u001b[0;34m:\u001b[0m\u001b[0;34m\u001b[0m\u001b[0;34m\u001b[0m\u001b[0m\n\u001b[1;32m      8\u001b[0m     \u001b[0;31m# Tuples cannot be modified → this will cause an error\u001b[0m\u001b[0;34m\u001b[0m\u001b[0;34m\u001b[0m\u001b[0m\n\u001b[0;32m----> 9\u001b[0;31m     \u001b[0mtpl\u001b[0m\u001b[0;34m[\u001b[0m\u001b[0;36m2\u001b[0m\u001b[0;34m]\u001b[0m \u001b[0;34m=\u001b[0m \u001b[0;34m\"brinjal\"\u001b[0m\u001b[0;34m\u001b[0m\u001b[0;34m\u001b[0m\u001b[0m\n\u001b[0m\u001b[1;32m     10\u001b[0m     \u001b[0mprint\u001b[0m\u001b[0;34m(\u001b[0m\u001b[0mtpl\u001b[0m\u001b[0;34m)\u001b[0m\u001b[0;34m\u001b[0m\u001b[0;34m\u001b[0m\u001b[0m\n\u001b[1;32m     11\u001b[0m \u001b[0;34m\u001b[0m\u001b[0m\n",
            "\u001b[0;31mTypeError\u001b[0m: 'tuple' object does not support item assignment"
          ]
        }
      ]
    },
    {
      "cell_type": "code",
      "source": [
        "#7.Write a program that performs basic arithmetic operations on two user-input numbers.\n",
        "num_1=int(input(\"enter first number \") )\n",
        "num_2=int(input(\"enter second number \"))\n",
        "print(num_1+num_2)\n",
        "print(num_1-num_2)\n",
        "print(num_1*num_2)\n",
        "print(num_1/num_2)\n",
        "print(num_1%num_2)\n",
        "print(num_1//num_2)\n",
        "print(num_1**num_2)"
      ],
      "metadata": {
        "colab": {
          "base_uri": "https://localhost:8080/"
        },
        "id": "jF-ZKrr7-kx9",
        "outputId": "224bc005-21be-439c-d00e-bbad7006b8ac"
      },
      "execution_count": null,
      "outputs": [
        {
          "output_type": "stream",
          "name": "stdout",
          "text": [
            "enter first number 12\n",
            "enter second number 4\n",
            "16\n",
            "8\n",
            "48\n",
            "3.0\n",
            "0\n",
            "3\n",
            "20736\n"
          ]
        }
      ]
    },
    {
      "cell_type": "code",
      "source": [
        "# 8. Write a program to demonstrate the use of logical operators.\n",
        "\n",
        "marks_science = int(input(\"enter your science marks \"))\n",
        "marks_maths = int(input(\"enter your maths marks \"))\n",
        "# It is an example of logical and\n",
        "if marks_maths>=30 and marks_science>=30:\n",
        "  print(\"you are passed\")\n",
        "else:\n",
        "  print(\"you are fail\")\n",
        "# It is an example of logical or\n",
        "if marks_maths>=30 or marks_science>=30:\n",
        "  print(\"you are pass\")\n",
        "else:\n",
        "    print(\"you are fail\")\n",
        "#it is an example of logical not\n",
        "if not marks_maths>=30:\n",
        "  print(\"you are fail\")\n",
        "else:\n",
        "  print(\"you are pass\")\n"
      ],
      "metadata": {
        "id": "oz9RsfWw_r-I",
        "colab": {
          "base_uri": "https://localhost:8080/"
        },
        "outputId": "3c640160-231e-4c5b-80f2-8e03e0e667ea"
      },
      "execution_count": null,
      "outputs": [
        {
          "output_type": "stream",
          "name": "stdout",
          "text": [
            "enter your science marks 76\n",
            "enter your maths marks 9\n",
            "you are fail\n",
            "you are pass\n",
            "you are fail\n"
          ]
        }
      ]
    },
    {
      "cell_type": "code",
      "source": [
        "#9. Write a Python program to convert user input from string to integer, float, and boolean types.\n",
        "\n",
        "\n",
        "marks = input(\"enter your string\")\n",
        "#type converted to int\n",
        "int(marks)\n",
        "print(marks)\n",
        "#type convertd to float\n",
        "float(marks)\n",
        "print(marks)\n",
        "#type converted to bool\n",
        "bool(marks)\n",
        "print(marks)"
      ],
      "metadata": {
        "id": "OAtGtQovGpYj",
        "colab": {
          "base_uri": "https://localhost:8080/"
        },
        "outputId": "f562be49-fef7-473d-e10c-ddb034f7c380"
      },
      "execution_count": null,
      "outputs": [
        {
          "output_type": "stream",
          "name": "stdout",
          "text": [
            "enter your string5\n",
            "5\n",
            "5\n",
            "5\n"
          ]
        }
      ]
    },
    {
      "cell_type": "code",
      "source": [
        " #10.Write code to demonstrate type casting with list elements.\n",
        "#type casting of list elements\n",
        "list = [\"apple\",\"5\",\"banana\"]\n",
        "print(list)\n",
        "list[1]=int(list[1])\n",
        "print(list)"
      ],
      "metadata": {
        "colab": {
          "base_uri": "https://localhost:8080/"
        },
        "id": "ZvAAOYmz6TpY",
        "outputId": "9eb389cf-9c9f-4433-c544-f18d0bdd96a4"
      },
      "execution_count": null,
      "outputs": [
        {
          "output_type": "stream",
          "name": "stdout",
          "text": [
            "['apple', '5', 'banana']\n",
            "['apple', 5, 'banana']\n"
          ]
        }
      ]
    },
    {
      "cell_type": "code",
      "source": [
        "#11. Write a program that checks if a number is positive, negative, or zero\n",
        "number = int(input(\"enter a number \"))\n",
        "if number>0:\n",
        "  print(\"number is positive\")\n",
        "elif number<0:\n",
        "  print(\"number is negative\")\n",
        "else :\n",
        "  print(\"number is zero\")\n"
      ],
      "metadata": {
        "colab": {
          "base_uri": "https://localhost:8080/"
        },
        "id": "Be8kz1qe7ofh",
        "outputId": "17c25fb3-52fe-40e3-d0de-6fce3d1f3331"
      },
      "execution_count": null,
      "outputs": [
        {
          "output_type": "stream",
          "name": "stdout",
          "text": [
            "enter a number 0\n",
            "number is zero\n"
          ]
        }
      ]
    },
    {
      "cell_type": "code",
      "source": [
        " #12. Write a for loop to print numbers from 1 to 10\n",
        "#for loop to print first 10 numbers\n",
        "for i in range (1,11):\n",
        "  print(i)"
      ],
      "metadata": {
        "id": "oaC2i7w2IVRD",
        "colab": {
          "base_uri": "https://localhost:8080/"
        },
        "outputId": "3a06c967-1497-4d9e-9c70-4d4b62368714"
      },
      "execution_count": null,
      "outputs": [
        {
          "output_type": "stream",
          "name": "stdout",
          "text": [
            "1\n",
            "2\n",
            "3\n",
            "4\n",
            "5\n",
            "6\n",
            "7\n",
            "8\n",
            "9\n",
            "10\n"
          ]
        }
      ]
    },
    {
      "cell_type": "code",
      "source": [
        "#13. Write a Python program to find the sum of all even numbers between 1 and 50\n",
        "sum = 0\n",
        "for i in range(0,50,2):\n",
        "\n",
        "  sum = sum+i\n",
        "\n",
        "print(sum)"
      ],
      "metadata": {
        "colab": {
          "base_uri": "https://localhost:8080/"
        },
        "id": "a3W2IXUkOxWi",
        "outputId": "ff4628c4-65e2-44be-cf1a-8319f3b20c53"
      },
      "execution_count": null,
      "outputs": [
        {
          "output_type": "stream",
          "name": "stdout",
          "text": [
            "650\n"
          ]
        }
      ]
    },
    {
      "cell_type": "code",
      "source": [
        "# 14.Write a program to reverse a string using a while loop.\n",
        "#reverse of a string\n",
        "name = \"mukesh\"\n",
        "print(name[::-1])\n"
      ],
      "metadata": {
        "id": "NNoLwFVdPkpp",
        "colab": {
          "base_uri": "https://localhost:8080/"
        },
        "outputId": "9b6019dc-dd19-48c6-9a17-ca6a4225a3b5"
      },
      "execution_count": null,
      "outputs": [
        {
          "output_type": "stream",
          "name": "stdout",
          "text": [
            "hsekum\n"
          ]
        }
      ]
    },
    {
      "cell_type": "code",
      "source": [
        "#15.Write a Python program to calculate the factorial of a number provided by the user using a while loop.\n",
        "i = int(input(\"enter a number \"))\n",
        "factorial = 1\n",
        "while i > 0:\n",
        "  factorial = factorial*i\n",
        "  i-=1\n",
        "print(factorial)"
      ],
      "metadata": {
        "colab": {
          "base_uri": "https://localhost:8080/"
        },
        "id": "mIXwiVj460XW",
        "outputId": "8b19d5a6-e47f-49d9-f5ae-e208526f7b4a"
      },
      "execution_count": null,
      "outputs": [
        {
          "output_type": "stream",
          "name": "stdout",
          "text": [
            "enter a number 5\n",
            "120\n"
          ]
        }
      ]
    }
  ]
}